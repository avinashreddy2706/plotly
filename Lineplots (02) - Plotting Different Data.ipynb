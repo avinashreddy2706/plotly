{
 "cells": [
  {
   "cell_type": "markdown",
   "metadata": {},
   "source": [
    "# Lineplots (2) - Plotting Different Data"
   ]
  },
  {
   "cell_type": "markdown",
   "metadata": {},
   "source": [
    "In the last lesson we learnt how to make a simple line chart in Plotly. We learnt about the concept of a trace and discovered what structure Plotly expects the instructions to be in when it makes a chart.\n",
    "\n",
    "In this lesson we're going to use the <code>dict.update()</code> method to plot different data in our chart."
   ]
  },
  {
   "cell_type": "markdown",
   "metadata": {},
   "source": [
    "## Module Imports"
   ]
  },
  {
   "cell_type": "code",
   "execution_count": 12,
   "metadata": {
    "collapsed": true
   },
   "outputs": [],
   "source": [
    "#plotly.offline doesn't push your charts to the clouds\n",
    "import plotly.offline as pyo\n",
    "#allows us to create the Data and Figure objects\n",
    "from plotly.graph_objs import *\n",
    "#plotly.plotly pushes your charts to the cloud  \n",
    "import plotly.plotly as py\n",
    "\n",
    "#pandas is a data analysis library\n",
    "import pandas as pd\n",
    "from pandas import DataFrame"
   ]
  },
  {
   "cell_type": "code",
   "execution_count": 13,
   "metadata": {},
   "outputs": [
    {
     "data": {
      "text/html": [
       "<script type=\"text/javascript\">window.PlotlyConfig = {MathJaxConfig: 'local'};</script><script type=\"text/javascript\">if (window.MathJax) {MathJax.Hub.Config({SVG: {font: \"STIX-Web\"}});}</script><script>requirejs.config({paths: { 'plotly': ['https://cdn.plot.ly/plotly-latest.min']},});if(!window._Plotly) {require(['plotly'],function(plotly) {window._Plotly=plotly;});}</script>"
      ],
      "text/vnd.plotly.v1+html": [
       "<script type=\"text/javascript\">window.PlotlyConfig = {MathJaxConfig: 'local'};</script><script type=\"text/javascript\">if (window.MathJax) {MathJax.Hub.Config({SVG: {font: \"STIX-Web\"}});}</script><script>requirejs.config({paths: { 'plotly': ['https://cdn.plot.ly/plotly-latest.min']},});if(!window._Plotly) {require(['plotly'],function(plotly) {window._Plotly=plotly;});}</script>"
      ]
     },
     "metadata": {},
     "output_type": "display_data"
    }
   ],
   "source": [
    "#lets us see the charts in an iPython Notebook\n",
    "pyo.offline.init_notebook_mode(connected=True) # run at the start of every ipython "
   ]
  },
  {
   "cell_type": "markdown",
   "metadata": {},
   "source": [
    "## Creating a chart\n",
    "\n",
    "We're going to use the same chart as last time."
   ]
  },
  {
   "cell_type": "code",
   "execution_count": 14,
   "metadata": {
    "collapsed": true
   },
   "outputs": [],
   "source": [
    "trace1 = {'type' : 'scatter',\n",
    "        'x' : [0,1,2,3,4,5,6,7,8,9],\n",
    "        'y' : [0,1,2,3,4,5,6,7,8,9],\n",
    "        'name' : 'trace1',\n",
    "        'mode' : 'lines'}"
   ]
  },
  {
   "cell_type": "markdown",
   "metadata": {},
   "source": [
    "Creating the Data object as a list of traces (one in this case):"
   ]
  },
  {
   "cell_type": "code",
   "execution_count": 15,
   "metadata": {},
   "outputs": [
    {
     "name": "stderr",
     "output_type": "stream",
     "text": [
      "C:\\Users\\Avinash\\Anaconda3\\lib\\site-packages\\plotly\\graph_objs\\_deprecations.py:39: DeprecationWarning:\n",
      "\n",
      "plotly.graph_objs.Data is deprecated.\n",
      "Please replace it with a list or tuple of instances of the following types\n",
      "  - plotly.graph_objs.Scatter\n",
      "  - plotly.graph_objs.Bar\n",
      "  - plotly.graph_objs.Area\n",
      "  - plotly.graph_objs.Histogram\n",
      "  - etc.\n",
      "\n",
      "\n"
     ]
    }
   ],
   "source": [
    "data = Data([trace1])"
   ]
  },
  {
   "cell_type": "markdown",
   "metadata": {},
   "source": [
    "### Setting the layout"
   ]
  },
  {
   "cell_type": "code",
   "execution_count": 16,
   "metadata": {
    "collapsed": true
   },
   "outputs": [],
   "source": [
    "layout = {'title' : \"My first plotly line chart\",\n",
    "         'xaxis' : {'title' : 'X Values'},\n",
    "         'yaxis' : {'title' : 'Y Values'}}"
   ]
  },
  {
   "cell_type": "markdown",
   "metadata": {},
   "source": [
    "### Creating the figure object and plotting it"
   ]
  },
  {
   "cell_type": "markdown",
   "metadata": {},
   "source": [
    "Combining the Data and Layout objects into a Figure object:"
   ]
  },
  {
   "cell_type": "code",
   "execution_count": 17,
   "metadata": {
    "collapsed": true
   },
   "outputs": [],
   "source": [
    "fig = Figure(data = data, layout = layout)"
   ]
  },
  {
   "cell_type": "markdown",
   "metadata": {},
   "source": [
    "Plotting the chart:"
   ]
  },
  {
   "cell_type": "code",
   "execution_count": 18,
   "metadata": {},
   "outputs": [
    {
     "data": {
      "application/vnd.plotly.v1+json": {
       "config": {
        "linkText": "Export to plot.ly",
        "plotlyServerURL": "https://plot.ly",
        "showLink": false
       },
       "data": [
        {
         "mode": "lines",
         "name": "trace1",
         "type": "scatter",
         "uid": "5b7344cb-d027-4e7a-aca1-c392398ecb04",
         "x": [
          0,
          1,
          2,
          3,
          4,
          5,
          6,
          7,
          8,
          9
         ],
         "y": [
          0,
          1,
          2,
          3,
          4,
          5,
          6,
          7,
          8,
          9
         ]
        }
       ],
       "layout": {
        "title": {
         "text": "My first plotly line chart"
        },
        "xaxis": {
         "title": {
          "text": "X Values"
         }
        },
        "yaxis": {
         "title": {
          "text": "Y Values"
         }
        }
       }
      },
      "text/html": [
       "<div id=\"12d72187-3d4f-4c72-bffb-f1f122d110df\" style=\"height: 525px; width: 100%;\" class=\"plotly-graph-div\"></div><script type=\"text/javascript\">require([\"plotly\"], function(Plotly) { window.PLOTLYENV=window.PLOTLYENV || {};window.PLOTLYENV.BASE_URL=\"https://plot.ly\";Plotly.newPlot(\"12d72187-3d4f-4c72-bffb-f1f122d110df\", [{\"mode\": \"lines\", \"name\": \"trace1\", \"x\": [0, 1, 2, 3, 4, 5, 6, 7, 8, 9], \"y\": [0, 1, 2, 3, 4, 5, 6, 7, 8, 9], \"type\": \"scatter\", \"uid\": \"5b7344cb-d027-4e7a-aca1-c392398ecb04\"}], {\"title\": {\"text\": \"My first plotly line chart\"}, \"xaxis\": {\"title\": {\"text\": \"X Values\"}}, \"yaxis\": {\"title\": {\"text\": \"Y Values\"}}}, {\"showLink\": false, \"linkText\": \"Export to plot.ly\", \"plotlyServerURL\": \"https://plot.ly\"})});</script><script type=\"text/javascript\">window.addEventListener(\"resize\", function(){window._Plotly.Plots.resize(document.getElementById(\"12d72187-3d4f-4c72-bffb-f1f122d110df\"));});</script>"
      ],
      "text/vnd.plotly.v1+html": [
       "<div id=\"12d72187-3d4f-4c72-bffb-f1f122d110df\" style=\"height: 525px; width: 100%;\" class=\"plotly-graph-div\"></div><script type=\"text/javascript\">require([\"plotly\"], function(Plotly) { window.PLOTLYENV=window.PLOTLYENV || {};window.PLOTLYENV.BASE_URL=\"https://plot.ly\";Plotly.newPlot(\"12d72187-3d4f-4c72-bffb-f1f122d110df\", [{\"mode\": \"lines\", \"name\": \"trace1\", \"x\": [0, 1, 2, 3, 4, 5, 6, 7, 8, 9], \"y\": [0, 1, 2, 3, 4, 5, 6, 7, 8, 9], \"type\": \"scatter\", \"uid\": \"5b7344cb-d027-4e7a-aca1-c392398ecb04\"}], {\"title\": {\"text\": \"My first plotly line chart\"}, \"xaxis\": {\"title\": {\"text\": \"X Values\"}}, \"yaxis\": {\"title\": {\"text\": \"Y Values\"}}}, {\"showLink\": false, \"linkText\": \"Export to plot.ly\", \"plotlyServerURL\": \"https://plot.ly\"})});</script><script type=\"text/javascript\">window.addEventListener(\"resize\", function(){window._Plotly.Plots.resize(document.getElementById(\"12d72187-3d4f-4c72-bffb-f1f122d110df\"));});</script>"
      ]
     },
     "metadata": {},
     "output_type": "display_data"
    }
   ],
   "source": [
    "pyo.iplot(fig)\n",
    "\n",
    "# Uncomment this to push the chart to the cloud:\n",
    "#py.plot(fig, filename=\"My first line chart\")"
   ]
  },
  {
   "cell_type": "markdown",
   "metadata": {},
   "source": [
    "## Updating the chart"
   ]
  },
  {
   "cell_type": "markdown",
   "metadata": {},
   "source": [
    "When we're developing a chart it can be helpful to update some of the instructions without having to rewrite everything, or to amend our previous code. Furthermore, we may want to create some slightly different versions of the same chart.\n",
    "\n",
    "This is where Python's native <code>dict.update()</code> function comes in handy. You can pass a new dictionary to this function and it will overwrite any values in the old dictionary that are present in the new version, and add any that are only present in the new version.\n",
    "\n",
    "To remove an option, you can use the <code>del</code> keyword, this removes the key/value pair from the dictionary.\n",
    "\n",
    "To practise this, we'll update the data in the chart, remove the y-axis title and also change the title of our chart. \n",
    "\n",
    "This is trace1 before updating:"
   ]
  },
  {
   "cell_type": "code",
   "execution_count": 8,
   "metadata": {},
   "outputs": [
    {
     "data": {
      "text/plain": [
       "{'mode': 'lines',\n",
       " 'name': 'trace1',\n",
       " 'type': 'scatter',\n",
       " 'x': [0, 1, 2, 3, 4, 5, 6, 7, 8, 9],\n",
       " 'y': [0, 1, 2, 3, 4, 5, 6, 7, 8, 9]}"
      ]
     },
     "execution_count": 8,
     "metadata": {},
     "output_type": "execute_result"
    }
   ],
   "source": [
    "trace1"
   ]
  },
  {
   "cell_type": "markdown",
   "metadata": {},
   "source": [
    "Here, I'm creating a variable which I'll pass to the update method:"
   ]
  },
  {
   "cell_type": "code",
   "execution_count": 9,
   "metadata": {
    "collapsed": true
   },
   "outputs": [],
   "source": [
    "updatedY = {'y' : [0,3,7,2,6,9,1,4,5,8]}"
   ]
  },
  {
   "cell_type": "markdown",
   "metadata": {
    "collapsed": true
   },
   "source": [
    "Now I can pass it to the update method:"
   ]
  },
  {
   "cell_type": "code",
   "execution_count": 10,
   "metadata": {},
   "outputs": [
    {
     "data": {
      "text/plain": [
       "{'mode': 'lines',\n",
       " 'name': 'trace1',\n",
       " 'type': 'scatter',\n",
       " 'x': [0, 1, 2, 3, 4, 5, 6, 7, 8, 9],\n",
       " 'y': [0, 3, 7, 2, 6, 9, 1, 4, 5, 8]}"
      ]
     },
     "execution_count": 10,
     "metadata": {},
     "output_type": "execute_result"
    }
   ],
   "source": [
    "trace1.update(updatedY)\n",
    "\n",
    "trace1"
   ]
  },
  {
   "cell_type": "markdown",
   "metadata": {},
   "source": [
    "Now, let's look at the chart with the updated Y-values. We have to recreate the Data and Figure objects because we have changed the trace:"
   ]
  },
  {
   "cell_type": "code",
   "execution_count": 11,
   "metadata": {},
   "outputs": [
    {
     "data": {
      "text/html": [
       "<div id=\"42294bfd-9288-48d3-96ee-7c94fd5bdd18\" style=\"height: 525px; width: 100%;\" class=\"plotly-graph-div\"></div><script type=\"text/javascript\">require([\"plotly\"], function(Plotly) { window.PLOTLYENV=window.PLOTLYENV || {};window.PLOTLYENV.BASE_URL=\"https://plot.ly\";Plotly.newPlot(\"42294bfd-9288-48d3-96ee-7c94fd5bdd18\", [{\"x\": [0, 1, 2, 3, 4, 5, 6, 7, 8, 9], \"mode\": \"lines\", \"y\": [0, 3, 7, 2, 6, 9, 1, 4, 5, 8], \"type\": \"scatter\", \"name\": \"trace1\"}], {\"xaxis\": {\"title\": \"X Values\"}, \"yaxis\": {\"title\": \"Y Values\"}, \"title\": \"My first plotly line chart\"}, {\"showLink\": true, \"linkText\": \"Export to plot.ly\"})});</script>"
      ],
      "text/plain": [
       "<IPython.core.display.HTML object>"
      ]
     },
     "metadata": {},
     "output_type": "display_data"
    }
   ],
   "source": [
    "data = Data([trace1])\n",
    "fig = Figure(data = data, layout = layout)\n",
    "\n",
    "pyo.iplot(fig)"
   ]
  },
  {
   "cell_type": "markdown",
   "metadata": {},
   "source": [
    "You can see how by changing the y-values, we suddenly have a much more interesting chart.\n",
    "\n",
    "Let's now change the chart title. This is the layout before updating:"
   ]
  },
  {
   "cell_type": "code",
   "execution_count": 12,
   "metadata": {},
   "outputs": [
    {
     "data": {
      "text/plain": [
       "{'title': 'My first plotly line chart',\n",
       " 'xaxis': {'title': 'X Values'},\n",
       " 'yaxis': {'title': 'Y Values'}}"
      ]
     },
     "execution_count": 12,
     "metadata": {},
     "output_type": "execute_result"
    }
   ],
   "source": [
    "layout"
   ]
  },
  {
   "cell_type": "markdown",
   "metadata": {},
   "source": [
    "Here I'm updating the layout directly, rather than creating a variable and passing it to the update method:"
   ]
  },
  {
   "cell_type": "code",
   "execution_count": 13,
   "metadata": {
    "collapsed": true
   },
   "outputs": [],
   "source": [
    "layout.update({'title' : 'My second Plotly line chart'})"
   ]
  },
  {
   "cell_type": "markdown",
   "metadata": {},
   "source": [
    "Let's have a look at the new chart. We only have to update the Figure object this time because we haven't changed any data:"
   ]
  },
  {
   "cell_type": "code",
   "execution_count": 14,
   "metadata": {},
   "outputs": [
    {
     "data": {
      "text/html": [
       "<div id=\"36013094-ad6d-4ef5-a4e6-63094552d363\" style=\"height: 525px; width: 100%;\" class=\"plotly-graph-div\"></div><script type=\"text/javascript\">require([\"plotly\"], function(Plotly) { window.PLOTLYENV=window.PLOTLYENV || {};window.PLOTLYENV.BASE_URL=\"https://plot.ly\";Plotly.newPlot(\"36013094-ad6d-4ef5-a4e6-63094552d363\", [{\"x\": [0, 1, 2, 3, 4, 5, 6, 7, 8, 9], \"mode\": \"lines\", \"y\": [0, 3, 7, 2, 6, 9, 1, 4, 5, 8], \"type\": \"scatter\", \"name\": \"trace1\"}], {\"xaxis\": {\"title\": \"X Values\"}, \"yaxis\": {\"title\": \"Y Values\"}, \"title\": \"My second Plotly line chart\"}, {\"showLink\": true, \"linkText\": \"Export to plot.ly\"})});</script>"
      ],
      "text/plain": [
       "<IPython.core.display.HTML object>"
      ]
     },
     "metadata": {},
     "output_type": "display_data"
    }
   ],
   "source": [
    "fig = Figure(data = data, layout = layout)\n",
    "pyo.iplot(fig)"
   ]
  },
  {
   "cell_type": "markdown",
   "metadata": {},
   "source": [
    "Finally, let's remove the Y-axis label using the <code>del</code> keyword.\n",
    "\n",
    "The Y-axis is a sub-dictionary within the layout. The Y-axis title is contained within this dictionary so we first need to access the <code>'yaxis'</code> key:"
   ]
  },
  {
   "cell_type": "code",
   "execution_count": 15,
   "metadata": {},
   "outputs": [
    {
     "data": {
      "text/plain": [
       "{'title': 'Y Values'}"
      ]
     },
     "execution_count": 15,
     "metadata": {},
     "output_type": "execute_result"
    }
   ],
   "source": [
    "layout['yaxis']"
   ]
  },
  {
   "cell_type": "markdown",
   "metadata": {},
   "source": [
    "Next we need to tell the <code>del</code> keyword to only delete the <code>'title'</code> key from the <code>'yaxis'</code> dictionary:"
   ]
  },
  {
   "cell_type": "code",
   "execution_count": 16,
   "metadata": {
    "collapsed": true
   },
   "outputs": [],
   "source": [
    "del layout['yaxis']['title']"
   ]
  },
  {
   "cell_type": "markdown",
   "metadata": {},
   "source": [
    "The layout after updating:"
   ]
  },
  {
   "cell_type": "code",
   "execution_count": 17,
   "metadata": {},
   "outputs": [
    {
     "data": {
      "text/plain": [
       "{'title': 'My second Plotly line chart',\n",
       " 'xaxis': {'title': 'X Values'},\n",
       " 'yaxis': {}}"
      ]
     },
     "execution_count": 17,
     "metadata": {},
     "output_type": "execute_result"
    }
   ],
   "source": [
    "layout"
   ]
  },
  {
   "cell_type": "markdown",
   "metadata": {},
   "source": [
    "Now, let's refresh the chart again by recreating the Figure object and plotting it:"
   ]
  },
  {
   "cell_type": "code",
   "execution_count": 18,
   "metadata": {},
   "outputs": [
    {
     "data": {
      "text/html": [
       "<div id=\"5ec070fa-ed9d-474f-9897-65b2f04b57e6\" style=\"height: 525px; width: 100%;\" class=\"plotly-graph-div\"></div><script type=\"text/javascript\">require([\"plotly\"], function(Plotly) { window.PLOTLYENV=window.PLOTLYENV || {};window.PLOTLYENV.BASE_URL=\"https://plot.ly\";Plotly.newPlot(\"5ec070fa-ed9d-474f-9897-65b2f04b57e6\", [{\"x\": [0, 1, 2, 3, 4, 5, 6, 7, 8, 9], \"mode\": \"lines\", \"y\": [0, 3, 7, 2, 6, 9, 1, 4, 5, 8], \"type\": \"scatter\", \"name\": \"trace1\"}], {\"xaxis\": {\"title\": \"X Values\"}, \"yaxis\": {}, \"title\": \"My second Plotly line chart\"}, {\"showLink\": true, \"linkText\": \"Export to plot.ly\"})});</script>"
      ],
      "text/plain": [
       "<IPython.core.display.HTML object>"
      ]
     },
     "metadata": {},
     "output_type": "display_data"
    }
   ],
   "source": [
    "fig = Figure(data = data, layout = layout)\n",
    "\n",
    "pyo.iplot(fig)"
   ]
  },
  {
   "cell_type": "markdown",
   "metadata": {},
   "source": [
    "You can see now how the Y-axis title has disappeared."
   ]
  },
  {
   "cell_type": "markdown",
   "metadata": {},
   "source": [
    "### What have we learnt in this lesson?"
   ]
  },
  {
   "cell_type": "markdown",
   "metadata": {},
   "source": [
    "In this lesson we've seen how to use the <code>dict.update()</code> and <code>del</code> keywords to make changes to our chart after creating it. We've seen how to change the data within the chart and how to affect the layout. We've also discovered that we must refresh the Data, Layout and Figure objects after making any changes."
   ]
  },
  {
   "cell_type": "markdown",
   "metadata": {},
   "source": [
    "If you have any questions, please ask in the comments section or email <a href=\"mailto:me@richard-muir.com\">me@richard-muir.com</a>"
   ]
  }
 ],
 "metadata": {
  "kernelspec": {
   "display_name": "Python 3",
   "language": "python",
   "name": "python3"
  },
  "language_info": {
   "codemirror_mode": {
    "name": "ipython",
    "version": 3
   },
   "file_extension": ".py",
   "mimetype": "text/x-python",
   "name": "python",
   "nbconvert_exporter": "python",
   "pygments_lexer": "ipython3",
   "version": "3.6.3"
  }
 },
 "nbformat": 4,
 "nbformat_minor": 1
}
